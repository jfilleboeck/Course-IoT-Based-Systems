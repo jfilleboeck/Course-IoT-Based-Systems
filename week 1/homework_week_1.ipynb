{
 "cells": [
  {
   "cell_type": "markdown",
   "metadata": {},
   "source": [
    "<h2>BL40A2010 Introduction to IoT-Based Systems</h2>\n",
    "<h3>Assignment 1, 18.09.2022</h3>\n",
    "<h4>Author: Jakob Filleböck</h4>\n",
    "<b>(1) Analyze an electric heater as a system following Example 1.1.</b>\n",
    "<br>\n",
    "Answer:\n",
    "\n",
    "(2) Give one example for each scientific rationalities presented in Section 1.2.1 similar to Example 1.2.\n",
    "\n",
    "Answer:\n",
    "\n",
    "(3) Download the air temperature data of one year from FMI at the city/region you currently live. Make four (arbitrary) time series plots for one year, one month, one week and one day.\n",
    "\n",
    "Hint: Code like in the tutorial notebook."
   ]
  }
 ],
 "metadata": {
  "language_info": {
   "name": "python"
  },
  "orig_nbformat": 4
 },
 "nbformat": 4,
 "nbformat_minor": 2
}
